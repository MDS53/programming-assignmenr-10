{
 "cells": [
  {
   "cell_type": "markdown",
   "id": "5f2e69ce",
   "metadata": {},
   "source": [
    "### 1.\tWrite a Python program to find sum of elements in list?"
   ]
  },
  {
   "cell_type": "code",
   "execution_count": 9,
   "id": "0e0eebc1",
   "metadata": {},
   "outputs": [
    {
     "name": "stdout",
     "output_type": "stream",
     "text": [
      "Length of the list5\n",
      "Enter elements1\n",
      "Enter elements2\n",
      "Enter elements3\n",
      "Enter elements4\n",
      "Enter elements5\n",
      "List : [1, 2, 3, 4, 5] and sum of elements in a list : 15\n"
     ]
    }
   ],
   "source": [
    "n=[]\n",
    "l=int(input(\"Length of the list\"))\n",
    "s=0\n",
    "for i in range(l):\n",
    "    k=int(input(\"Enter elements\"))\n",
    "    n.append(k)\n",
    "    s+=k\n",
    "print(\"List :\",n,\"and sum of elements in a list :\",s)"
   ]
  },
  {
   "cell_type": "markdown",
   "id": "724c5adc",
   "metadata": {},
   "source": [
    "### 2.\tWrite a Python program to  Multiply all numbers in the list?"
   ]
  },
  {
   "cell_type": "code",
   "execution_count": 13,
   "id": "9f05ec07",
   "metadata": {},
   "outputs": [
    {
     "name": "stdout",
     "output_type": "stream",
     "text": [
      "Length of the list4\n",
      "Enter elements :\n",
      "1\n",
      "20\n",
      "3\n",
      "20\n",
      "List : [1, 20, 3, 20] and multiplication of all elements in a list : 1200\n"
     ]
    }
   ],
   "source": [
    "n=[]\n",
    "l=int(input(\"Length of the list\"))\n",
    "s=1\n",
    "print(\"Enter elements :\")\n",
    "for i in range(l):\n",
    "    k=int(input())\n",
    "    n.append(k)\n",
    "    s*=k\n",
    "print(\"List :\",n,\"and multiplication of all elements in a list :\",s)"
   ]
  },
  {
   "cell_type": "markdown",
   "id": "08c44089",
   "metadata": {},
   "source": [
    "### 3.\tWrite a Python program to find smallest number in a list?"
   ]
  },
  {
   "cell_type": "code",
   "execution_count": 15,
   "id": "79350efa",
   "metadata": {
    "scrolled": true
   },
   "outputs": [
    {
     "name": "stdout",
     "output_type": "stream",
     "text": [
      "Length of the list3\n",
      "Enter elements :\n",
      "1\n",
      "2\n",
      "3\n",
      "1 is the smallest element in a list : [1, 2, 3]\n"
     ]
    }
   ],
   "source": [
    "n=[]\n",
    "l=int(input(\"Length of the list\"))\n",
    "print(\"Enter elements :\")\n",
    "for i in range(l):\n",
    "    k=int(input())\n",
    "    n.append(k)\n",
    "print(min(n),\"is the smallest element in a list :\",n)"
   ]
  },
  {
   "cell_type": "markdown",
   "id": "28fabbc3",
   "metadata": {},
   "source": [
    "### 4.\tWrite a Python program to find largest number in a list?"
   ]
  },
  {
   "cell_type": "code",
   "execution_count": 2,
   "id": "390063b0",
   "metadata": {},
   "outputs": [
    {
     "name": "stdout",
     "output_type": "stream",
     "text": [
      "Length of the list3\n",
      "Enter elements :\n",
      "1\n",
      "23\n",
      "4\n",
      "23 is the largest element in a list : [1, 23, 4]\n"
     ]
    }
   ],
   "source": [
    "n=[]\n",
    "l=int(input(\"Length of the list\"))\n",
    "print(\"Enter elements :\")\n",
    "for i in range(l):\n",
    "    k=int(input())\n",
    "    n.append(k)\n",
    "print(max(n),\"is the largest element in a list :\",n)"
   ]
  },
  {
   "cell_type": "markdown",
   "id": "cc5b7eb3",
   "metadata": {},
   "source": [
    "### 5.\tWrite a Python program to find second largest number in a list?"
   ]
  },
  {
   "cell_type": "code",
   "execution_count": 10,
   "id": "e89e2005",
   "metadata": {},
   "outputs": [
    {
     "name": "stdout",
     "output_type": "stream",
     "text": [
      "Length of the list4\n",
      "Enter elements :\n",
      "2\n",
      "32\n",
      "44\n",
      "55\n",
      "44 is the 2nd largest element in a list : [2, 32, 44, 55]\n"
     ]
    }
   ],
   "source": [
    "n=[]\n",
    "l=int(input(\"Length of the list\"))\n",
    "print(\"Enter elements :\")\n",
    "for i in range(l):\n",
    "    k=int(input())\n",
    "    n.append(k)\n",
    "c=[]\n",
    "c=n.copy()\n",
    "p=max(c)\n",
    "c.remove(p)\n",
    "print(max(c),\"is the 2nd largest element in a list :\",n)"
   ]
  },
  {
   "cell_type": "markdown",
   "id": "915e343a",
   "metadata": {},
   "source": [
    "### 6.\tWrite a Python program to find N largest elements from a list?"
   ]
  },
  {
   "cell_type": "code",
   "execution_count": 16,
   "id": "925ffb17",
   "metadata": {
    "scrolled": true
   },
   "outputs": [
    {
     "name": "stdout",
     "output_type": "stream",
     "text": [
      "Length of the list5\n",
      "Enter elements :\n",
      "56\n",
      "65\n",
      "45\n",
      "85\n",
      "744\n",
      "How many largest elements you want from a list :4\n",
      "744 is the 1 - largest element in a list : [56, 65, 45, 85, 744]\n",
      "85 is the 2 - largest element in a list : [56, 65, 45, 85, 744]\n",
      "65 is the 3 - largest element in a list : [56, 65, 45, 85, 744]\n",
      "56 is the 4 - largest element in a list : [56, 65, 45, 85, 744]\n"
     ]
    }
   ],
   "source": [
    "n=[]\n",
    "l=int(input(\"Length of the list\"))\n",
    "print(\"Enter elements :\")\n",
    "for i in range(l):\n",
    "    k=int(input())\n",
    "    n.append(k)\n",
    "c=[]\n",
    "c=n.copy()\n",
    "q=int(input(\"How many largest elements you want from a list :\"))\n",
    "for i in range(1,q+1):\n",
    "    print(max(c),\"is the\",i,\"- largest element in a list :\",n)\n",
    "    p=max(c)\n",
    "    c.remove(p)"
   ]
  },
  {
   "cell_type": "markdown",
   "id": "3da23041",
   "metadata": {},
   "source": [
    "### 7.\tWrite a Python program to print even numbers in a list?"
   ]
  },
  {
   "cell_type": "code",
   "execution_count": 21,
   "id": "28e1e647",
   "metadata": {},
   "outputs": [
    {
     "name": "stdout",
     "output_type": "stream",
     "text": [
      "Length of the list5\n",
      "Enter elements :\n",
      "1\n",
      "232\n",
      "65\n",
      "43\n",
      "65\n",
      "Even numbers in a list \n",
      "232\n"
     ]
    }
   ],
   "source": [
    "n=[]\n",
    "l=int(input(\"Length of the list\"))\n",
    "print(\"Enter elements :\")\n",
    "for i in range(l):\n",
    "    k=int(input())\n",
    "    n.append(k)\n",
    "print(\"Even numbers in a list \")\n",
    "for i in n:\n",
    "    if(i%2==0):\n",
    "        print(i)\n",
    "    else:\n",
    "        pass"
   ]
  },
  {
   "cell_type": "markdown",
   "id": "03136e7c",
   "metadata": {},
   "source": [
    "### 8.\tWrite a Python program to print odd numbers in a List?"
   ]
  },
  {
   "cell_type": "code",
   "execution_count": 22,
   "id": "5144c664",
   "metadata": {},
   "outputs": [
    {
     "name": "stdout",
     "output_type": "stream",
     "text": [
      "Length of the list5\n",
      "Enter elements :\n",
      "1\n",
      "23\n",
      "54\n",
      "66\n",
      "46\n",
      "Even numbers in a list \n",
      "1\n",
      "23\n"
     ]
    }
   ],
   "source": [
    "n=[]\n",
    "l=int(input(\"Length of the list\"))\n",
    "print(\"Enter elements :\")\n",
    "for i in range(l):\n",
    "    k=int(input())\n",
    "    n.append(k)\n",
    "print(\"Even numbers in a list \")\n",
    "for i in n:\n",
    "    if(i%2!=0):\n",
    "        print(i)\n",
    "    else:\n",
    "        pass"
   ]
  },
  {
   "cell_type": "markdown",
   "id": "bc84d691",
   "metadata": {},
   "source": [
    "### 9.\tWrite a Python program to Remove empty List from List?"
   ]
  },
  {
   "cell_type": "code",
   "execution_count": 23,
   "id": "6c228740",
   "metadata": {},
   "outputs": [
    {
     "name": "stdout",
     "output_type": "stream",
     "text": [
      "[1, 2, 34, 42, 42, 2, [1, 2, 3]]\n"
     ]
    }
   ],
   "source": [
    "l=[1,2,34,42,42,2,[],[1,2,3]]\n",
    "k=[]\n",
    "for i in l:\n",
    "    if(type(i)==list):\n",
    "         if(i==k):\n",
    "                l.remove(i)\n",
    "print(l)        "
   ]
  },
  {
   "cell_type": "markdown",
   "id": "bec66498",
   "metadata": {},
   "source": [
    "### 10.\tWrite a Python program to Cloning or Copying a list?"
   ]
  },
  {
   "cell_type": "code",
   "execution_count": 29,
   "id": "6fe8717c",
   "metadata": {},
   "outputs": [
    {
     "name": "stdout",
     "output_type": "stream",
     "text": [
      "Original list: [2, 34, 1, 34, 123, 2]\n",
      "Clone list: [2, 34, 1, 34, 123, 2]\n"
     ]
    }
   ],
   "source": [
    "o=[2,34,1,34,123,2]\n",
    "c=l.copy()\n",
    "print(\"Original list:\",o)\n",
    "print(\"Clone list:\",c)"
   ]
  },
  {
   "cell_type": "markdown",
   "id": "a4f7a925",
   "metadata": {},
   "source": [
    "### 11.\tWrite a Python program to Count occurrences of an element in a list?"
   ]
  },
  {
   "cell_type": "code",
   "execution_count": 33,
   "id": "755bb943",
   "metadata": {},
   "outputs": [
    {
     "name": "stdout",
     "output_type": "stream",
     "text": [
      "3 times repeated in a given list : [1, 3, 4, 5, 3, 1, 3]\n"
     ]
    }
   ],
   "source": [
    "l=[1,3,4,5,3,1,3]\n",
    "print(l.count(3),\"times repeated in a given list :\",l)"
   ]
  }
 ],
 "metadata": {
  "kernelspec": {
   "display_name": "Python 3",
   "language": "python",
   "name": "python3"
  },
  "language_info": {
   "codemirror_mode": {
    "name": "ipython",
    "version": 3
   },
   "file_extension": ".py",
   "mimetype": "text/x-python",
   "name": "python",
   "nbconvert_exporter": "python",
   "pygments_lexer": "ipython3",
   "version": "3.8.8"
  }
 },
 "nbformat": 4,
 "nbformat_minor": 5
}
